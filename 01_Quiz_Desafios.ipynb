{
  "nbformat": 4,
  "nbformat_minor": 0,
  "metadata": {
    "colab": {
      "provenance": [],
      "include_colab_link": true
    },
    "kernelspec": {
      "name": "python3",
      "display_name": "Python 3"
    },
    "language_info": {
      "name": "python"
    }
  },
  "cells": [
    {
      "cell_type": "markdown",
      "metadata": {
        "id": "view-in-github",
        "colab_type": "text"
      },
      "source": [
        "<a href=\"https://colab.research.google.com/github/tulio-a-brasileiro/PythonExercises/blob/main/01_Quiz_Desafios.ipynb\" target=\"_parent\"><img src=\"https://colab.research.google.com/assets/colab-badge.svg\" alt=\"Open In Colab\"/></a>"
      ]
    },
    {
      "cell_type": "markdown",
      "source": [
        "Escreva uma função que receba uma lista de números como entrada e retorne o segundo maior número da lista. Você pode assumir que a lista possui pelo menos dois elementos e que todos os elementos são distintos. Você não tem permissão para usar funções ou métodos integrados, como max, min, sort, etc."
      ],
      "metadata": {
        "id": "ibJscjgkTIBa"
      }
    },
    {
      "cell_type": "code",
      "source": [
        "#teste"
      ],
      "metadata": {
        "id": "xUFJ1fllTH3i"
      },
      "execution_count": null,
      "outputs": []
    },
    {
      "cell_type": "markdown",
      "source": [
        "Repita o exercício acima, levando em consideração que podem existir números iguais na lista."
      ],
      "metadata": {
        "id": "fK3aPLkJTdf6"
      }
    },
    {
      "cell_type": "code",
      "source": [],
      "metadata": {
        "id": "KpnzXaSpTiUd"
      },
      "execution_count": null,
      "outputs": []
    },
    {
      "cell_type": "markdown",
      "source": [
        "Pergunta: Escreva um programa que calcule e imprima o valor de acordo com a fórmula fornecida: Q = Raiz quadrada de [(2 * C * D)/H] A seguir estão os valores fixos de C e H: C é 50. H é 30. D é a variável cujos valores devem ser inseridos no seu programa em uma sequência separada por vírgulas. Exemplo Vamos supor que a seguinte sequência de entrada separada por vírgula seja fornecida ao programa: 100,150,180 A saída do programa deve ser: 18,22,24\n",
        "\n",
        "Dicas: Se a saída recebida estiver na forma decimal, ela deverá ser arredondada para o valor mais próximo (por exemplo, se a saída recebida for 26.0, deverá ser impressa como 26) Caso sejam fornecidos dados de entrada para a questão, deve ser assumido como uma entrada do console."
      ],
      "metadata": {
        "id": "ZLnOa4yGRIm9"
      }
    },
    {
      "cell_type": "code",
      "source": [],
      "metadata": {
        "id": "sZ5d79t8RGal"
      },
      "execution_count": null,
      "outputs": []
    },
    {
      "cell_type": "markdown",
      "source": [
        "Pergunta: Escreva um programa que receba 2 dígitos, X, Y como entrada e gere uma matriz bidimensional. O valor do elemento na i-ésima linha e na j-ésima coluna da matriz deve ser i*j.\n",
        "\n",
        "Nota: i=0,1.., X-1; j=0,1,¡Y-1.\n",
        "\n",
        "Exemplo: Suponha que as seguintes entradas sejam fornecidas ao programa: 3,5 Então, a saída do programa deve ser: [[0, 0, 0, 0, 0], [0, 1, 2, 3, 4], [ 0, 2, 4, 6, 8]]\n",
        "\n",
        "Nota: No caso de dados de entrada serem fornecidos para a pergunta, deve-se assumir que é uma entrada do console em formato separado por vírgula."
      ],
      "metadata": {
        "id": "ndBcvuT3RSgB"
      }
    },
    {
      "cell_type": "code",
      "execution_count": null,
      "metadata": {
        "id": "sM0O6ERVRFN-"
      },
      "outputs": [],
      "source": []
    },
    {
      "cell_type": "markdown",
      "source": [
        "Pergunta: Escreva um programa que aceite uma sequência de palavras separadas por vírgula como entrada e imprima as palavras em uma sequência separada por vírgula após classificá-las em ordem alfabética. Suponha que a seguinte entrada seja fornecida ao programa:\n",
        "\n",
        "without,hello,bag,world\n",
        "\n",
        "Então, a saída deve ser:\n",
        "\n",
        "bag,hello,without,world\n",
        "\n",
        "Dicas: No caso de dados de entrada serem fornecidos para a pergunta, deve-se assumir que é uma entrada do console."
      ],
      "metadata": {
        "id": "CAg9Ij3-RbMl"
      }
    },
    {
      "cell_type": "code",
      "source": [],
      "metadata": {
        "id": "E_dTIvnsRjTK"
      },
      "execution_count": null,
      "outputs": []
    },
    {
      "cell_type": "markdown",
      "source": [
        "Escreva um programa que aceite uma sequência de linhas como entrada e imprima as linhas após colocar todos os caracteres da frase em maiúscula. Suponha que a seguinte entrada seja fornecida ao programa: `Olá, mundo A prática leva à perfeição` Então, a saída deve ser: `OLÁ, MUNDO A PRÁTICA LEVA À PERFEIÇÃO`\n",
        "\n",
        "Dicas: No caso de dados de entrada serem fornecidos para a pergunta, deve-se assumir que é uma entrada do console."
      ],
      "metadata": {
        "id": "Q5_R_oawRlmq"
      }
    },
    {
      "cell_type": "code",
      "source": [],
      "metadata": {
        "id": "xGJ6mWs4R1aS"
      },
      "execution_count": null,
      "outputs": []
    },
    {
      "cell_type": "markdown",
      "source": [
        "Pergunta: Escreva um programa que aceite uma sequência de palavras separadas por espaços em branco como entrada e imprima as palavras após remover todas as palavras duplicadas e classificá-las alfanumericamente. Suponha que a seguinte entrada seja fornecida ao programa: `hello world and practice makes perfect and hello world again` Então, a saída deveria ser: `again and hello makes perfect practice world`\n",
        "\n",
        "Dicas: No caso de dados de entrada serem fornecidos para a pergunta, deve-se assumir que é uma entrada do console. Usamos set container para remover dados duplicados automaticamente e então usamos sorted() para classificar os dados."
      ],
      "metadata": {
        "id": "CWYm0gsRR2wS"
      }
    },
    {
      "cell_type": "code",
      "source": [],
      "metadata": {
        "id": "H2HBr25pSI6B"
      },
      "execution_count": null,
      "outputs": []
    },
    {
      "cell_type": "markdown",
      "source": [
        "Pergunta: Escreva um programa que aceite uma sequência de números binários de 4 dígitos separados por vírgula como entrada e verifique se eles são divisíveis por 5 ou não. Os números divisíveis por 5 devem ser impressos em uma sequência separada por vírgulas.\n",
        "Exemplo: 0100,0011,1010,1001\n",
        "Então a saída deve ser: 1010\n",
        "\n",
        "Notas: Suponha que os dados sejam inseridos pelo console.\n",
        "\n",
        "Dicas: No caso de dados de entrada serem fornecidos para a pergunta, deve-se assumir que é uma entrada do console."
      ],
      "metadata": {
        "id": "eV9lYSDoSKyT"
      }
    },
    {
      "cell_type": "code",
      "source": [],
      "metadata": {
        "id": "xpdgMLqbSdDr"
      },
      "execution_count": null,
      "outputs": []
    },
    {
      "cell_type": "markdown",
      "source": [
        "Pergunta: Escreva um programa que encontre todos esses números entre 1.000 e 3.000 (ambos incluídos), de modo que cada dígito do número seja um número par. Os números obtidos devem ser impressos em sequência separada por vírgula em uma única linha.\n",
        "\n",
        "Dicas: No caso de dados de entrada serem fornecidos para a pergunta, deve-se assumir que é uma entrada do console."
      ],
      "metadata": {
        "id": "RdEZag5_SeF8"
      }
    },
    {
      "cell_type": "code",
      "source": [],
      "metadata": {
        "id": "qoI3TumaShdG"
      },
      "execution_count": null,
      "outputs": []
    },
    {
      "cell_type": "markdown",
      "source": [
        "Pergunta: Escreva um programa que aceite uma frase e calcule o número de letras e dígitos. Suponha que a seguinte entrada seja fornecida ao programa: Olá, mundo! 123 Então, a saída deve ser: LETRAS 10 DÍGITOS 3\n",
        "\n",
        "Dicas: No caso de dados de entrada serem fornecidos para a pergunta, deve-se assumir que é uma entrada do console."
      ],
      "metadata": {
        "id": "jc9XGvRuSiX2"
      }
    },
    {
      "cell_type": "code",
      "source": [],
      "metadata": {
        "id": "qw9HLO3YSlX3"
      },
      "execution_count": null,
      "outputs": []
    },
    {
      "cell_type": "markdown",
      "source": [
        "Pergunta: Escreva um programa que aceite uma frase e calcule o número de letras maiúsculas e minúsculas. Suponha que a seguinte entrada seja fornecida ao programa: Olá, mundo! Então, a saída deve ser: UPPER CASE 1 LOWER CASE 9\n",
        "\n",
        "Dicas: No caso de dados de entrada serem fornecidos para a pergunta, deve-se assumir que é uma entrada do console."
      ],
      "metadata": {
        "id": "qgq9Qrc5SpOp"
      }
    },
    {
      "cell_type": "code",
      "source": [],
      "metadata": {
        "id": "okT9sJMtStb7"
      },
      "execution_count": null,
      "outputs": []
    },
    {
      "cell_type": "markdown",
      "source": [
        "Pergunta: Escreva um programa que calcule o valor de a+aa+aaa+aaaa com um determinado dígito como o valor de a. Suponha que a seguinte entrada seja fornecida ao programa: 9 Então, a saída deveria ser: 11106\n",
        "\n",
        "Dicas: No caso de dados de entrada serem fornecidos para a pergunta, deve-se assumir que é uma entrada do console."
      ],
      "metadata": {
        "id": "P4Pg76jCSugc"
      }
    },
    {
      "cell_type": "code",
      "source": [],
      "metadata": {
        "id": "zp6f2xI3S45C"
      },
      "execution_count": null,
      "outputs": []
    },
    {
      "cell_type": "markdown",
      "source": [
        "Pergunta: Use uma compreensão de lista para elevar ao quadrado cada número ímpar de uma lista. A lista é inserida por uma sequência de números separados por vírgula. Suponha que a seguinte entrada seja fornecida ao programa: 1,2,3,4,5,6,7,8,9 Então, a saída deve ser: 1,3,5,7,9\n",
        "\n",
        "Dicas: No caso de dados de entrada serem fornecidos para a pergunta, deve-se assumir que é uma entrada do console."
      ],
      "metadata": {
        "id": "xT6sFo15S5Th"
      }
    },
    {
      "cell_type": "code",
      "source": [],
      "metadata": {
        "id": "k7gHsP3vS9aD"
      },
      "execution_count": null,
      "outputs": []
    },
    {
      "cell_type": "markdown",
      "source": [
        "Pergunta: Escreva um programa que calcule o valor líquido de uma conta bancária com base em um log de transações da entrada do console. O formato do log de transações é mostrado a seguir: D 100 W 200\n",
        "\n",
        "D significa depósito enquanto W significa retirada. Suponha que a seguinte entrada seja fornecida ao programa: D 300 D 300 W 200 D 100 Então, a saída deve ser: 500\n",
        "\n",
        "Dicas: No caso de dados de entrada serem fornecidos para a pergunta, deve-se assumir que é uma entrada do console."
      ],
      "metadata": {
        "id": "v0JqE5ChTAaV"
      }
    },
    {
      "cell_type": "code",
      "source": [],
      "metadata": {
        "id": "on37GfdWTC-3"
      },
      "execution_count": null,
      "outputs": []
    }
  ]
}